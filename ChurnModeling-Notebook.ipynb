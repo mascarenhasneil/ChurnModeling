{
 "cells": [
  {
   "cell_type": "markdown",
   "metadata": {},
   "source": [
    "<h1><center>Final Capstone Project.</center></h1>\r\n",
    "\r\n",
    "<h3><center>ALY6140 80956 Analytics Systems Technology SEC 04 Spring 2021 CPS</center></h3>\r\n",
    "<h2><center><b>Customer Churn Modeling.</b></center></h2>\r\n",
    "\r\n"
   ]
  },
  {
   "cell_type": "code",
   "execution_count": null,
   "metadata": {},
   "outputs": [],
   "source": []
  }
 ],
 "metadata": {
  "interpreter": {
   "hash": "f5039e66ac25ae4f622de660e8595ae1298aa8b055baa5b9d1fb00ba6a4b90b2"
  },
  "kernelspec": {
   "display_name": "Python 3.8.5 64-bit ('base': conda)",
   "name": "python3"
  },
  "language_info": {
   "name": "python",
   "version": ""
  },
  "orig_nbformat": 4
 },
 "nbformat": 4,
 "nbformat_minor": 2
}